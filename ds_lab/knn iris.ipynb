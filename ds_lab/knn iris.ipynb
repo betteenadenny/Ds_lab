{
 "cells": [
  {
   "cell_type": "code",
   "execution_count": 1,
   "metadata": {},
   "outputs": [
    {
     "name": "stdout",
     "output_type": "stream",
     "text": [
      "Accuracy is 91.11111111111111\n",
      "['virginica']\n",
      "Predicted class: ['virginica']\n"
     ]
    }
   ],
   "source": [
    "from sklearn.datasets import load_iris\n",
    "from sklearn.neighbors import KNeighborsClassifier \n",
    "from sklearn.model_selection import train_test_split\n",
    "from sklearn.metrics import accuracy_score\n",
    "\n",
    "iris = load_iris()\n",
    "X, y = iris.data, iris.target\n",
    "\n",
    "x_train, x_test, y_train, y_test = train_test_split(X, y, train_size=0.7)\n",
    "classifier = KNeighborsClassifier(n_neighbors=3)\n",
    "classifier.fit(x_train, y_train)\n",
    "\n",
    "result = classifier.predict(x_test)\n",
    "accuracy = accuracy_score(y_test, result) * 100\n",
    "print(f'Accuracy is {accuracy}')\n",
    "\n",
    "features = [[int(i) for i in input(f'Enter {iris.feature_names}').split()]]\n",
    "result = classifier.predict(features)\n",
    "print(iris['target_names'][result])\n",
    "# print(f'Predicted class: {iris.target_names[result]}')"
   ]
  },
  {
   "cell_type": "code",
   "execution_count": null,
   "metadata": {},
   "outputs": [],
   "source": []
  }
 ],
 "metadata": {
  "kernelspec": {
   "display_name": "Python 3",
   "language": "python",
   "name": "python3"
  },
  "language_info": {
   "codemirror_mode": {
    "name": "ipython",
    "version": 3
   },
   "file_extension": ".py",
   "mimetype": "text/x-python",
   "name": "python",
   "nbconvert_exporter": "python",
   "pygments_lexer": "ipython3",
   "version": "3.12.0"
  }
 },
 "nbformat": 4,
 "nbformat_minor": 2
}
