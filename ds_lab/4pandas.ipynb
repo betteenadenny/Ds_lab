{
 "cells": [
  {
   "cell_type": "code",
   "execution_count": 2,
   "metadata": {},
   "outputs": [
    {
     "name": "stdout",
     "output_type": "stream",
     "text": [
      "0    10\n",
      "1    20\n",
      "2    30\n",
      "3    40\n",
      "4    50\n",
      "dtype: int64\n"
     ]
    }
   ],
   "source": [
    "# # 1. Write a python program to implement List-to-Series Conversion.\n",
    "\n",
    "import pandas as pd\n",
    "my_list = [10, 20, 30, 40, 50]\n",
    "my_series = pd.Series(my_list)\n",
    "print(my_series)\n"
   ]
  },
  {
   "cell_type": "code",
   "execution_count": 3,
   "metadata": {},
   "outputs": [
    {
     "name": "stdout",
     "output_type": "stream",
     "text": [
      "DatetimeIndex(['2021-05-01', '2021-05-02', '2021-05-03', '2021-05-04',\n",
      "               '2021-05-05', '2021-05-06', '2021-05-07', '2021-05-08',\n",
      "               '2021-05-09', '2021-05-10', '2021-05-11', '2021-05-12'],\n",
      "              dtype='datetime64[ns]', freq='D')\n"
     ]
    }
   ],
   "source": [
    "# 2. Write a python program to Generate the series of dates from 1st May, 2021 to 12th May, 2021 (both inclusive).\n",
    "\n",
    "date_range = pd.date_range(start='2021-05-01', end='2021-05-12')\n",
    "print(date_range)"
   ]
  },
  {
   "cell_type": "code",
   "execution_count": 4,
   "metadata": {},
   "outputs": [
    {
     "name": "stdout",
     "output_type": "stream",
     "text": [
      "     Name  Age\n",
      "0  Rijfas   25\n",
      "1  Rifana   30\n",
      "2   Aflah   35\n"
     ]
    }
   ],
   "source": [
    "# 3. Given a dictionary, convert it into corresponding dataframe and display\n",
    "\n",
    "data = {'Name': ['Rijfas', 'Rifana', 'Aflah'],\n",
    "        'Age': [25, 30, 35]}\n",
    "df = pd.DataFrame(data)\n",
    "print(df)"
   ]
  },
  {
   "cell_type": "code",
   "execution_count": 16,
   "metadata": {},
   "outputs": [
    {
     "name": "stdout",
     "output_type": "stream",
     "text": [
      "     Name  Age\n",
      "0  Rijfas   25\n",
      "1  Rifana   30\n",
      "2   Aflah   35\n"
     ]
    }
   ],
   "source": [
    "# 4. Given a 2D List, convert it into corresponding dataframe and display it.\n",
    "data = [['Rijfas', 25], ['Rifana', 30], ['Aflah', 35]]\n",
    "df = pd.DataFrame(data, columns=['Name', 'Age'])\n",
    "print(df)"
   ]
  },
  {
   "cell_type": "code",
   "execution_count": 17,
   "metadata": {},
   "outputs": [
    {
     "name": "stdout",
     "output_type": "stream",
     "text": [
      "     name  mark result\n",
      "0     Ann    30   pass\n",
      "1   Joyal    10   fail\n",
      "2  Anitta    35   pass\n",
      "3  Naijil     9   fail\n",
      "4   Nennu    14   fail\n",
      "5  Chinnu    28   pass\n"
     ]
    }
   ],
   "source": [
    "# 5. Given a CSV file, read it into a dataframe and display it.\n",
    "# Program 5:\n",
    "df = pd.read_csv('result.csv')\n",
    "print(df)"
   ]
  },
  {
   "cell_type": "code",
   "execution_count": 8,
   "metadata": {},
   "outputs": [
    {
     "name": "stdout",
     "output_type": "stream",
     "text": [
      "     Name  Age  Score\n",
      "0  Rijfas   25    100\n",
      "1  Rifana   30     99\n",
      "2   Aflah   35     98\n"
     ]
    }
   ],
   "source": [
    "# 6. Given a dataframe, sort it by multiple columns.\n",
    "\n",
    "data = {'Name': ['Rijfas', 'Rifana', 'Aflah'],\n",
    "        'Age': [25, 30, 35], \n",
    "        'Score': [100, 99, 98]}\n",
    "df = pd.DataFrame(data)\n",
    "df = df.sort_values(by=['Age'])\n",
    "print(df)"
   ]
  },
  {
   "cell_type": "code",
   "execution_count": 4,
   "metadata": {},
   "outputs": [
    {
     "name": "stdout",
     "output_type": "stream",
     "text": [
      "     Name  Age  Score\n",
      "0  Rijfas   25    100\n",
      "1  Rifana   30     99\n",
      "2   Aflah   35     98\n",
      "     Name  Age  Score\n",
      "A  Rijfas   25    100\n",
      "B  Rifana   30     99\n",
      "C   Aflah   35     98\n",
      "     Name  Age  Score\n",
      "0  Rijfas   25    100\n",
      "1  Rifana   30     99\n",
      "2   Aflah   35     98\n"
     ]
    }
   ],
   "source": [
    "# 7. Given a dataframe with custom indexing, convert and it to default indexing and display it.\n",
    "import pandas as pd\n",
    "data = {'Name': ['Rijfas', 'Rifana', 'Aflah'],\n",
    "        'Age': [25, 30, 35], \n",
    "        'Score': [100, 99, 98]}\n",
    "df = pd.DataFrame(data)\n",
    "print(df)\n",
    "df = pd.DataFrame(data, index=['A', 'B', 'C'])\n",
    "print(df)\n",
    "df.reset_index(drop=True, inplace=True)\n",
    "print(df)"
   ]
  },
  {
   "cell_type": "code",
   "execution_count": 10,
   "metadata": {},
   "outputs": [
    {
     "name": "stdout",
     "output_type": "stream",
     "text": [
      "     Name  Age  Score\n",
      "0  Rijfas   25    100\n",
      "1  Rifana   30     99\n"
     ]
    }
   ],
   "source": [
    "# 8. Given a dataframe, select first 2 rows and output them.\n",
    "\n",
    "data = {'Name': ['Rijfas', 'Rifana', 'Aflah'],\n",
    "'Age': [25, 30, 35], 'Score': [100, 99, 98]}\n",
    "df = pd.DataFrame(data)\n",
    "print(df.head(2))"
   ]
  },
  {
   "cell_type": "code",
   "execution_count": 13,
   "metadata": {},
   "outputs": [
    {
     "name": "stdout",
     "output_type": "stream",
     "text": [
      "Occupation\n",
      "Doctor      65000.0\n",
      "Engineer    50000.0\n",
      "Lawyer      75000.0\n",
      "Name: Salary, dtype: float64\n"
     ]
    }
   ],
   "source": [
    "# 9. Given is a dataframe showing name, occupation, salary of people. Find the average salary per occupation.\n",
    "data = {'Name': ['Rijfas', 'Rifana', 'Aflah', 'Suhail', 'Shammas'],\n",
    "        'Occupation': ['Engineer', 'Doctor', 'Doctor', 'Lawyer', 'Engineer'],\n",
    "        'Salary': [60000, 80000, 50000, 75000, 40000]}\n",
    "df = pd.DataFrame(data)\n",
    "average_salary_per_occupation = df.groupby('Occupation')['Salary'].mean()\n",
    "print(average_salary_per_occupation)"
   ]
  },
  {
   "cell_type": "code",
   "execution_count": 15,
   "metadata": {},
   "outputs": [
    {
     "name": "stdout",
     "output_type": "stream",
     "text": [
      "     Name  Age  Score\n",
      "0  Rijfas   25  100.0\n",
      "1  Rifana   30   99.0\n",
      "2   Aflah   35    0.0\n"
     ]
    }
   ],
   "source": [
    "# 10. Given a dataframe with NaN Values, fill the NaN values with 0.\n",
    "import numpy as np\n",
    "data = {'Name': ['Rijfas', 'Rifana', 'Aflah'],\n",
    "'Age': [25, 30, 35], 'Score': [100, 99, np.nan]}\n",
    "df = pd.DataFrame(data)\n",
    "df.fillna(0, inplace=True)\n",
    "print(df)"
   ]
  },
  {
   "cell_type": "code",
   "execution_count": 16,
   "metadata": {},
   "outputs": [
    {
     "name": "stdout",
     "output_type": "stream",
     "text": [
      "       cname  profit\n",
      "0  Company A    True\n",
      "1  Company B   False\n",
      "2  Company C    True\n",
      "3  Company D   False\n"
     ]
    }
   ],
   "source": [
    "# 11. Given is a dataframe showing Company Names (cname) and corresponding Profits (profit). Convert the values of Profit column such that values in it greater than 0are set to True and the rest are set to False.\n",
    "data = {'cname': ['Company A', 'Company B', 'Company C', 'Company D'],\n",
    "'profit': [10000, -5000, 7500, 0]}\n",
    "df = pd.DataFrame(data)\n",
    "df['profit'] = df['profit'] > 0\n",
    "print(df)"
   ]
  },
  {
   "cell_type": "code",
   "execution_count": 9,
   "metadata": {},
   "outputs": [
    {
     "name": "stdout",
     "output_type": "stream",
     "text": [
      "   eid    ename  stipend Designation\n",
      "0  101   Rijfas      600    Engineer\n",
      "1  103    Aflah      800     Teacher\n",
      "2  104   Suhail      900      Lawyer\n",
      "3  105  Shammas      750      Artist\n"
     ]
    }
   ],
   "source": [
    "# 12. Given are 2 dataframes, with one dataframe containing Employee ID (eid), Employee Name (ename) and Stipend (stipend) and the other dataframe containing Employee ID (eid) and designation of the employee (designation). Output the Dataframe containing Employee ID (eid), Employee Name (ename), Stipend (stipend) and Position (position).\n",
    "employee_data = {\n",
    "'eid': [101, 102, 103, 104, 105],\n",
    "'ename': ['Rijfas', 'Rifana', 'Aflah', 'Suhail', 'Shammas'],\n",
    "'stipend': [600, 700, 800, 900, 750]\n",
    "}\n",
    "designation_data = {\n",
    "'eid': [101, 103, 104, 105],\n",
    "'Designation': ['Engineer', 'Teacher', 'Lawyer', 'Artist']\n",
    "}\n",
    "employee_df = pd.DataFrame(employee_data)\n",
    "designation_df = pd.DataFrame(designation_data)\n",
    "result_df = employee_df.merge(designation_df, on='eid')\n",
    "print(result_df)"
   ]
  }
 ],
 "metadata": {
  "kernelspec": {
   "display_name": "Python 3",
   "language": "python",
   "name": "python3"
  },
  "language_info": {
   "codemirror_mode": {
    "name": "ipython",
    "version": 3
   },
   "file_extension": ".py",
   "mimetype": "text/x-python",
   "name": "python",
   "nbconvert_exporter": "python",
   "pygments_lexer": "ipython3",
   "version": "3.12.0"
  }
 },
 "nbformat": 4,
 "nbformat_minor": 2
}
