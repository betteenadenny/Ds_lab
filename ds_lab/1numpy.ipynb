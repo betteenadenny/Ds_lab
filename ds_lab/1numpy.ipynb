{
 "cells": [
  {
   "cell_type": "code",
   "execution_count": 9,
   "metadata": {},
   "outputs": [
    {
     "name": "stdout",
     "output_type": "stream",
     "text": [
      "Array 1: [1 2 3]\n",
      "Array 2: [1 3 2]\n",
      "Greater: [False False  True]\n",
      "Greater Equal: [ True False  True]\n",
      "Equal: [ True False False]\n",
      "Less: [False  True False]\n",
      "Less Equal: [ True  True False]\n"
     ]
    }
   ],
   "source": [
    "# 1. Write a NumPy program to create an element-wise comparison (greater, greater_equal, less and less_equal) of two given arrays.\n",
    "import numpy as np\n",
    "array_1 = np.array([1, 2, 3])\n",
    "array_2 = np.array([1, 3, 2])\n",
    "print('Array 1:', array_1)\n",
    "print('Array 2:', array_2)\n",
    "print('Greater:', np.greater(array_1, array_2))\n",
    "print('Greater Equal:', np.greater_equal(array_1, array_2))\n",
    "print('Equal:', np.equal(array_1, array_2))\n",
    "print('Less:', np.less(array_1, array_2))\n",
    "print('Less Equal:', np.less_equal(array_1, array_2))"
   ]
  },
  {
   "cell_type": "code",
   "execution_count": 2,
   "metadata": {},
   "outputs": [
    {
     "name": "stdout",
     "output_type": "stream",
     "text": [
      "Even numbers from 30 to 70: [30 32 34 36 38 40 42 44 46 48 50 52 54 56 58 60 62 64 66 68]\n"
     ]
    }
   ],
   "source": [
    "# 2. Write a NumPy program to create an array of all the even integers from 30 to 70.\n",
    "array_3 = np.arange(30, 70, 2)\n",
    "print('Even numbers from 30 to 70:', array_3)\n"
   ]
  },
  {
   "cell_type": "code",
   "execution_count": 3,
   "metadata": {},
   "outputs": [
    {
     "name": "stdout",
     "output_type": "stream",
     "text": [
      "3x3 identity matrix: [[1 0 0]\n",
      " [0 1 0]\n",
      " [0 0 1]]\n"
     ]
    }
   ],
   "source": [
    "# 3. Write a NumPy program to create a 3x3 identity matrix.\n",
    "array_4 = np.identity(3, int)\n",
    "print('3x3 identity matrix:', array_4)"
   ]
  },
  {
   "cell_type": "code",
   "execution_count": 5,
   "metadata": {},
   "outputs": [
    {
     "name": "stdout",
     "output_type": "stream",
     "text": [
      "Original vector:\n",
      "[ 0  1  2  3  4  5  6  7  8  9 10 11 12 13 14 15 16 17 18 19 20]\n",
      "After changing the sign of the numbers in the range from 9 to 15:\n",
      "[  0   1   2   3   4   5   6   7   8  -9 -10 -11 -12 -13 -14 -15  16  17\n",
      "  18  19  20]\n",
      "[0 1 2 3 4 5 6 7 8 9]\n",
      "[ 0  1  2  3 -4 -5 -6 -7  8  9]\n"
     ]
    }
   ],
   "source": [
    "# 4. Write a NumPy program to create a vector with values from 0 to 20 and change the sign of the numbers in the range from 9 to 15.\n",
    "array_5 = np.arange(21)\n",
    "print(\"Original vector:\")\n",
    "print(array_5)\n",
    "print(\"After changing the sign of the numbers in the range from 9 to 15:\")\n",
    "array_5[(array_5 >= 9) & (array_5 <= 15)] *= -1\n",
    "print(array_5)"
   ]
  },
  {
   "cell_type": "code",
   "execution_count": 11,
   "metadata": {},
   "outputs": [
    {
     "name": "stdout",
     "output_type": "stream",
     "text": [
      "5x5 Zero matrix with diagonal 1,2 3, 4, 5:\n",
      " [[1 0 0 0 0]\n",
      " [0 2 0 0 0]\n",
      " [0 0 3 0 0]\n",
      " [0 0 0 4 0]\n",
      " [0 0 0 0 5]]\n"
     ]
    }
   ],
   "source": [
    "# 5. Write a NumPy program to create a 5x5 zero matrix with elements on the main diagonal equal to 1, 2, 3, 4, 5\n",
    "value = np.arange(1, 6)\n",
    "array_6 = np.diag(value)\n",
    "print('5x5 Zero matrix with diagonal 1,2 3, 4, 5:\\n', array_6)"
   ]
  },
  {
   "cell_type": "code",
   "execution_count": 4,
   "metadata": {},
   "outputs": [
    {
     "name": "stdout",
     "output_type": "stream",
     "text": [
      "Array: [[1, 2, 3], [4, 5, 6]]\n",
      "Sum: 21\n",
      "Sum Row: [ 6 15]\n",
      "Sum Col: [5 7 9]\n"
     ]
    }
   ],
   "source": [
    "# 6. Write a NumPy program to compute sum of all elements, sum of each column and sum of each row of a given array.\n",
    "array_7 = [[1,2,3],[4,5,6]]\n",
    "print('Array:', array_7)\n",
    "print('Sum:', np.sum(array_7))\n",
    "print('Sum Row:', np.sum(array_7, axis=1))\n",
    "print('Sum Col:', np.sum(array_7, axis=0))"
   ]
  },
  {
   "cell_type": "code",
   "execution_count": 7,
   "metadata": {},
   "outputs": [
    {
     "name": "stdout",
     "output_type": "stream",
     "text": [
      "[[1 2 3]\n",
      " [4 5 6]]\n"
     ]
    }
   ],
   "source": [
    "# 7. Write a NumPy program to save a given array to a text file and load it.\n",
    "import numpy as np\n",
    "np.savetxt('1array.txt',array_7)\n",
    "print(np.loadtxt('1array.txt').astype(np.int64))\n",
    "\n"
   ]
  },
  {
   "cell_type": "code",
   "execution_count": 10,
   "metadata": {},
   "outputs": [
    {
     "name": "stdout",
     "output_type": "stream",
     "text": [
      "Array 1: [1 2 3]\n",
      "Array 2: [1 3 2]\n",
      "Arrays are not equal\n"
     ]
    }
   ],
   "source": [
    "# 8. Write a NumPy program to check whether two arrays are equal (element wise) or not.\n",
    "print('Array 1:', array_1)\n",
    "print('Array 2:', array_2)\n",
    "if np.array_equal(array_1, array_2):\n",
    "  print('Arrays are equal')\n",
    "else:\n",
    "  print('Arrays are not equal')"
   ]
  },
  {
   "cell_type": "code",
   "execution_count": 26,
   "metadata": {},
   "outputs": [
    {
     "name": "stdout",
     "output_type": "stream",
     "text": [
      "random array \n",
      "[[0.37454012 0.95071431 0.73199394 0.59865848]\n",
      " [0.15601864 0.15599452 0.05808361 0.86617615]\n",
      " [0.60111501 0.70807258 0.02058449 0.96990985]\n",
      " [0.83244264 0.21233911 0.18182497 0.18340451]]\n",
      "Swapped array\n",
      " [[0.83244264 0.21233911 0.18182497 0.18340451]\n",
      " [0.15601864 0.15599452 0.05808361 0.86617615]\n",
      " [0.60111501 0.70807258 0.02058449 0.96990985]\n",
      " [0.37454012 0.95071431 0.73199394 0.59865848]]\n"
     ]
    }
   ],
   "source": [
    "# 9. Write a NumPy program to create a 4x4 array with random values, now create a new arrayfrom the said array swapping first and last rows.\n",
    "np.random.seed(42)\n",
    "a = np.random.rand(4,4)\n",
    "print(f'random array \\n{a}')\n",
    "a[[0,3]] = a[[3,0]]\n",
    "print(f'Swapped array\\n {a}')"
   ]
  },
  {
   "cell_type": "code",
   "execution_count": 27,
   "metadata": {},
   "outputs": [
    {
     "name": "stdout",
     "output_type": "stream",
     "text": [
      "a: [1 2 3 4 5]\n",
      "b: [ 6  7  8  9 10]\n",
      "axb: [ 6 14 24 36 50]\n"
     ]
    }
   ],
   "source": [
    "# 10. Write a NumPy program to multiply two given arrays of same size element-by-element\n",
    "a = np.arange(1, 6)\n",
    "b = np.arange(6, 11)\n",
    "print('a:', a)\n",
    "print('b:', b)\n",
    "print('axb:', a*b)"
   ]
  },
  {
   "cell_type": "markdown",
   "metadata": {},
   "source": []
  }
 ],
 "metadata": {
  "kernelspec": {
   "display_name": "Python 3",
   "language": "python",
   "name": "python3"
  },
  "language_info": {
   "codemirror_mode": {
    "name": "ipython",
    "version": 3
   },
   "file_extension": ".py",
   "mimetype": "text/x-python",
   "name": "python",
   "nbconvert_exporter": "python",
   "pygments_lexer": "ipython3",
   "version": "3.12.0"
  }
 },
 "nbformat": 4,
 "nbformat_minor": 2
}
