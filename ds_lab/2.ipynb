{
 "cells": [
  {
   "cell_type": "code",
   "execution_count": 18,
   "metadata": {},
   "outputs": [
    {
     "name": "stdout",
     "output_type": "stream",
     "text": [
      "Dot Product: 32\n",
      "Transpose of a: [[1]\n",
      " [2]\n",
      " [3]]\n",
      "Trace of a: 1\n",
      "Rank of a: 1\n",
      "Determinant of a: 0.0\n",
      "Eigenvalues:\n",
      "[ 1.61168440e+01 -1.11684397e+00 -1.30367773e-15]\n",
      "Eigenvectors:\n",
      "[[-0.23197069 -0.78583024  0.40824829]\n",
      " [-0.52532209 -0.08675134 -0.81649658]\n",
      " [-0.8186735   0.61232756  0.40824829]]\n"
     ]
    }
   ],
   "source": [
    "# ?read array from user\n",
    "import numpy as np\n",
    "# r,c=2,2\n",
    "# m1 = []\n",
    "# for i in range(r):\n",
    "#   ele = [int(input(f'Enter element {i+1} {j+1}:')) for j in range(c)]\n",
    "#   m1.append(ele)\n",
    "# print(m1)\n",
    "a = np.array([1, 2, 3])\n",
    "b = np.array([4, 5, 6])\n",
    "\n",
    "# Dot product of a and b\n",
    "dot_product = np.dot(a, b)\n",
    "print(\"Dot Product:\", dot_product)\n",
    "\n",
    "# Transpose of a (reshaped to a 2D array)\n",
    "transpose_a = np.transpose(a.reshape(1, -1))\n",
    "print(\"Transpose of a:\", transpose_a)\n",
    "\n",
    "# Trace of a\n",
    "trace_a = np.trace(a.reshape(1, -1))\n",
    "print(\"Trace of a:\", trace_a)\n",
    "\n",
    "# Rank of a matrix\n",
    "rank_a = np.linalg.matrix_rank(a.reshape(1, -1))\n",
    "print(\"Rank of a:\", rank_a)\n",
    "\n",
    "# Determinant of a\n",
    "determinant_a = np.linalg.det(np.array([[1, 2, 3], [4, 5, 6], [7, 8, 9]]))\n",
    "print(\"Determinant of a:\", determinant_a)\n",
    "\n",
    "# Inverse of a\n",
    "# inverse_a = np.linalg.inv(np.array([[1, 2, 3], [4, 5, 6], [7, 8, 9]]))\n",
    "# print(\"Inverse of a:\")\n",
    "# print(inverse_a)\n",
    "\n",
    "# Eigenvalues and eigenvectors of a\n",
    "eigenvalues, eigenvectors = np.linalg.eig(np.array([[1, 2, 3], [4, 5, 6], [7, 8, 9]]))\n",
    "print(\"Eigenvalues:\")\n",
    "print(eigenvalues)\n",
    "print(\"Eigenvectors:\")\n",
    "print(eigenvectors)\n",
    "\n",
    "\n"
   ]
  },
  {
   "cell_type": "code",
   "execution_count": null,
   "metadata": {},
   "outputs": [],
   "source": []
  },
  {
   "cell_type": "code",
   "execution_count": null,
   "metadata": {},
   "outputs": [],
   "source": []
  }
 ],
 "metadata": {
  "kernelspec": {
   "display_name": "Python 3",
   "language": "python",
   "name": "python3"
  },
  "language_info": {
   "codemirror_mode": {
    "name": "ipython",
    "version": 3
   },
   "file_extension": ".py",
   "mimetype": "text/x-python",
   "name": "python",
   "nbconvert_exporter": "python",
   "pygments_lexer": "ipython3",
   "version": "3.12.0"
  }
 },
 "nbformat": 4,
 "nbformat_minor": 2
}
