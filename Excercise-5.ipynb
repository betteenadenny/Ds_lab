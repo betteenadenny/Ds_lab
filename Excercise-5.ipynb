{
 "cells": [
  {
   "cell_type": "code",
   "execution_count": 3,
   "id": "5b8346d0",
   "metadata": {},
   "outputs": [
    {
     "name": "stdout",
     "output_type": "stream",
     "text": [
      "Requirement already satisfied: sklearn in /home/exam1/miniconda3/lib/python3.9/site-packages (0.0)\n",
      "Requirement already satisfied: scikit-learn in /home/exam1/miniconda3/lib/python3.9/site-packages (from sklearn) (1.3.2)\n",
      "Requirement already satisfied: numpy<2.0,>=1.17.3 in /home/exam1/miniconda3/lib/python3.9/site-packages (from scikit-learn->sklearn) (1.23.1)\n",
      "Requirement already satisfied: joblib>=1.1.1 in /home/exam1/miniconda3/lib/python3.9/site-packages (from scikit-learn->sklearn) (1.3.2)\n",
      "Requirement already satisfied: scipy>=1.5.0 in /home/exam1/miniconda3/lib/python3.9/site-packages (from scikit-learn->sklearn) (1.11.3)\n",
      "Requirement already satisfied: threadpoolctl>=2.0.0 in /home/exam1/miniconda3/lib/python3.9/site-packages (from scikit-learn->sklearn) (3.2.0)\n",
      "Note: you may need to restart the kernel to use updated packages.\n"
     ]
    }
   ],
   "source": [
    "pip install sklearn\n"
   ]
  },
  {
   "cell_type": "code",
   "execution_count": 4,
   "id": "3e85898e",
   "metadata": {},
   "outputs": [
    {
     "name": "stdout",
     "output_type": "stream",
     "text": [
      "Collecting chart_studio\n",
      "  Downloading chart_studio-1.1.0-py3-none-any.whl (64 kB)\n",
      "\u001b[K     |████████████████████████████████| 64 kB 47 kB/s  eta 0:00:01\n",
      "\u001b[?25hCollecting retrying>=1.3.3\n",
      "  Downloading retrying-1.3.4-py3-none-any.whl (11 kB)\n",
      "Requirement already satisfied: requests in /home/exam1/miniconda3/lib/python3.9/site-packages (from chart_studio) (2.27.1)\n",
      "Collecting plotly\n",
      "  Downloading plotly-5.18.0-py3-none-any.whl (15.6 MB)\n",
      "\u001b[K     |████████████████████████████████| 15.6 MB 2.3 MB/s eta 0:00:01    |█████▌                          | 2.7 MB 2.3 MB/s eta 0:00:06     |████████████████████████████▉   | 14.1 MB 2.3 MB/s eta 0:00:01\n",
      "\u001b[?25hRequirement already satisfied: six in /home/exam1/miniconda3/lib/python3.9/site-packages (from chart_studio) (1.16.0)\n",
      "Collecting tenacity>=6.2.0\n",
      "  Downloading tenacity-8.2.3-py3-none-any.whl (24 kB)\n",
      "Requirement already satisfied: packaging in /home/exam1/miniconda3/lib/python3.9/site-packages (from plotly->chart_studio) (21.3)\n",
      "Requirement already satisfied: pyparsing!=3.0.5,>=2.0.2 in /home/exam1/miniconda3/lib/python3.9/site-packages (from packaging->plotly->chart_studio) (3.0.4)\n",
      "Requirement already satisfied: charset-normalizer~=2.0.0 in /home/exam1/miniconda3/lib/python3.9/site-packages (from requests->chart_studio) (2.0.4)\n",
      "Requirement already satisfied: idna<4,>=2.5 in /home/exam1/miniconda3/lib/python3.9/site-packages (from requests->chart_studio) (3.3)\n",
      "Requirement already satisfied: certifi>=2017.4.17 in /home/exam1/miniconda3/lib/python3.9/site-packages (from requests->chart_studio) (2022.6.15)\n",
      "Requirement already satisfied: urllib3<1.27,>=1.21.1 in /home/exam1/miniconda3/lib/python3.9/site-packages (from requests->chart_studio) (1.26.8)\n",
      "Installing collected packages: tenacity, retrying, plotly, chart-studio\n",
      "Successfully installed chart-studio-1.1.0 plotly-5.18.0 retrying-1.3.4 tenacity-8.2.3\n",
      "Note: you may need to restart the kernel to use updated packages.\n"
     ]
    }
   ],
   "source": [
    "pip install chart_studio\n"
   ]
  },
  {
   "cell_type": "code",
   "execution_count": 5,
   "id": "7f6407b6",
   "metadata": {},
   "outputs": [
    {
     "name": "stdout",
     "output_type": "stream",
     "text": [
      "Requirement already satisfied: plotly in /home/exam1/miniconda3/lib/python3.9/site-packages (5.18.0)\n",
      "Requirement already satisfied: tenacity>=6.2.0 in /home/exam1/miniconda3/lib/python3.9/site-packages (from plotly) (8.2.3)\n",
      "Requirement already satisfied: packaging in /home/exam1/miniconda3/lib/python3.9/site-packages (from plotly) (21.3)\n",
      "Requirement already satisfied: pyparsing!=3.0.5,>=2.0.2 in /home/exam1/miniconda3/lib/python3.9/site-packages (from packaging->plotly) (3.0.4)\n",
      "Note: you may need to restart the kernel to use updated packages.\n"
     ]
    }
   ],
   "source": [
    "pip install plotly"
   ]
  },
  {
   "cell_type": "code",
   "execution_count": 6,
   "id": "6ddc0f27",
   "metadata": {},
   "outputs": [
    {
     "name": "stdout",
     "output_type": "stream",
     "text": [
      "matplotlib:  3.8.0\n",
      "sklearn : 1.3.2\n",
      "pandas : 2.1.1\n"
     ]
    }
   ],
   "source": [
    "import matplotlib\n",
    "import sklearn\n",
    "import pandas\n",
    "#printing the versions of installed modules\n",
    "print(\"matplotlib: \", matplotlib.__version__)\n",
    "print(\"sklearn :\", sklearn.__version__)\n",
    "print(\"pandas :\", pandas.__version__)"
   ]
  },
  {
   "cell_type": "code",
   "execution_count": 31,
   "id": "81565500",
   "metadata": {},
   "outputs": [
    {
     "name": "stdout",
     "output_type": "stream",
     "text": [
      "Enter sepal length:1\n",
      "Enter sepal width:4\n",
      "Enter petal length:7\n",
      "Enter sepal width:9\n",
      "[2]\n"
     ]
    }
   ],
   "source": [
    "#implementation of k-NN algorithm by iris \n",
    "\n",
    "\n",
    "# Import necessary modules \n",
    "from sklearn.neighbors import KNeighborsClassifier \n",
    "from sklearn.model_selection import train_test_split \n",
    "from sklearn.datasets import load_iris \n",
    "\n",
    "# Loading data \n",
    "irisData = load_iris() \n",
    "\n",
    "# Create feature and target arrays \n",
    "X = irisData.data \n",
    "y = irisData.target \n",
    "\n",
    "# Split into training and test set \n",
    "X_train, X_test, y_train, y_test = train_test_split( X, y, test_size = 0.2, random_state=42) \n",
    "\n",
    "knn = KNeighborsClassifier(n_neighbors=7) \n",
    "\n",
    "knn.fit(X_train, y_train) \n",
    "\n",
    "# print(knn.predict(X_test))\n",
    "\n",
    "a = int(input(\"Enter sepal length:\"))\n",
    "b = int(input(\"Enter sepal width:\"))\n",
    "c = int(input(\"Enter petal length:\"))\n",
    "d = int(input(\"Enter sepal width:\"))\n",
    "data = [[a,b,c,d]]\n",
    "# Predict on dataset which model has not seen before \n",
    "print(knn.predict(data)) \n"
   ]
  },
  {
   "cell_type": "code",
   "execution_count": null,
   "id": "959b3de5",
   "metadata": {},
   "outputs": [],
   "source": []
  }
 ],
 "metadata": {
  "kernelspec": {
   "display_name": "Python 3 (ipykernel)",
   "language": "python",
   "name": "python3"
  },
  "language_info": {
   "codemirror_mode": {
    "name": "ipython",
    "version": 3
   },
   "file_extension": ".py",
   "mimetype": "text/x-python",
   "name": "python",
   "nbconvert_exporter": "python",
   "pygments_lexer": "ipython3",
   "version": "3.9.12"
  }
 },
 "nbformat": 4,
 "nbformat_minor": 5
}
