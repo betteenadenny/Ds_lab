
   "source": [
    "#implementation of k-NN algorithm by iris dataset \n",
    "\n",
    "\n",
    "# Import necessary modules \n",
    "from sklearn.neighbors import KNeighborsClassifier \n",
    "from sklearn.model_selection import train_test_split \n",
    "from sklearn.datasets import load_iris \n",
    "\n",
    "# Loading data \n",
    "irisData = load_iris() \n",
    "\n",
    "# Create feature and target arrays \n",
    "X = irisData.data \n",
    "y = irisData.target \n",
    "\n",
    "# Split into training and test set \n",
    "X_train, X_test, y_train, y_test = train_test_split( X, y, test_size = 0.2, random_state=42) \n",
    "\n",
    "knn = KNeighborsClassifier(n_neighbors=7) \n",
    "\n",
    "knn.fit(X_train, y_train) \n",
    "\n",
    "# print(knn.predict(X_test))\n",
    "\n",
    "a = int(input(\"Enter sepal length:\"))\n",
    "b = int(input(\"Enter sepal width:\"))\n",
    "c = int(input(\"Enter petal length:\"))\n",
    "d = int(input(\"Enter sepal width:\"))\n",
    "data = [[a,b,c,d]]\n",
    "# Predict on dataset which model has not seen before \n",
    "print(knn.predict(data)) \n"
   ]
  },
  {
   "cell_type": "code",
   "execution_count": null,
   "id": "959b3de5",
   "metadata": {},
   "outputs": [],
   "source": []
  }
 ],
 "metadata": {
  "kernelspec": {
   "display_name": "Python 3 (ipykernel)",
   "language": "python",
   "name": "python3"
  },
  "language_info": {
   "codemirror_mode": {
    "name": "ipython",
    "version": 3
   },
   "file_extension": ".py",
   "mimetype": "text/x-python",
   "name": "python",
   "nbconvert_exporter": "python",
   "pygments_lexer": "ipython3",
   "version": "3.9.12"
  }
 },
 "nbformat": 4,
 "nbformat_minor": 5
}
