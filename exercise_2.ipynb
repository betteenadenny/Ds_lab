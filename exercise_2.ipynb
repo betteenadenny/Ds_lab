{
 "cells": [
  {
   "cell_type": "code",
   "execution_count": 3,
   "id": "11717513-9264-4621-ab89-a511bb904836",
   "metadata": {},
   "outputs": [
    {
     "name": "stdin",
     "output_type": "stream",
     "text": [
      "Give the number of rows: 2\n",
      "Give the number of columns: 2\n"
     ]
    },
    {
     "name": "stdout",
     "output_type": "stream",
     "text": [
      "Please write the elements of the first matrix in a single line and separated by a space: \n"
     ]
    },
    {
     "name": "stdin",
     "output_type": "stream",
     "text": [
      " 1 2 3 4 \n"
     ]
    },
    {
     "name": "stdout",
     "output_type": "stream",
     "text": [
      "Please write the elements of the second matrix in a single line and separated by a space: \n"
     ]
    },
    {
     "name": "stdin",
     "output_type": "stream",
     "text": [
      " 1 4 5 6 \n"
     ]
    },
    {
     "name": "stdout",
     "output_type": "stream",
     "text": [
      "[[1 2]\n",
      " [3 4]]\n",
      "[[1 4]\n",
      " [5 6]]\n"
     ]
    }
   ],
   "source": [
    "import numpy as np  \n",
    "  \n",
    "Rows = int(input(\"Give the number of rows:\"))  \n",
    "Columns = int(input(\"Give the number of columns:\"))  \n",
    "\n",
    "print(\"Please write the elements of the first matrix in a single line and separated by a space: \")  \n",
    "elements1 = list(map(int, input().split()))  \n",
    "\n",
    "print(\"Please write the elements of the second matrix in a single line and separated by a space: \")  \n",
    "elements2 = list(map(int, input().split()))  \n",
    " \n",
    "matrix1 = np.array(elements1).reshape(Rows, Columns)  \n",
    "print(matrix1) \n",
    "\n",
    "matrix2 = np.array(elements2).reshape(Rows, Columns)  \n",
    "print(matrix2) \n"
   ]
  },
  {
   "cell_type": "code",
   "execution_count": 4,
   "id": "6b7944e5-9d65-41b6-9b37-0192c853afbe",
   "metadata": {},
   "outputs": [
    {
     "name": "stdout",
     "output_type": "stream",
     "text": [
      "[[11 16]\n",
      " [23 36]]\n"
     ]
    }
   ],
   "source": [
    "dotProduct=np.dot(matrix1,matrix2)\n",
    "print(dotProduct)"
   ]
  },
  {
   "cell_type": "code",
   "execution_count": 5,
   "id": "5adf0f4d-3b3e-4190-a4f7-eba52fe61fd6",
   "metadata": {},
   "outputs": [
    {
     "name": "stdout",
     "output_type": "stream",
     "text": [
      "[[1 3]\n",
      " [2 4]]\n"
     ]
    }
   ],
   "source": [
    "traspose=np.transpose(matrix1)\n",
    "print(traspose)"
   ]
  },
  {
   "cell_type": "code",
   "execution_count": 6,
   "id": "93599722-9d27-4b8e-a644-f1de6c8436aa",
   "metadata": {},
   "outputs": [
    {
     "name": "stdout",
     "output_type": "stream",
     "text": [
      "5\n"
     ]
    }
   ],
   "source": [
    "trace=np.trace(matrix1)\n",
    "print(trace)"
   ]
  },
  {
   "cell_type": "code",
   "execution_count": 7,
   "id": "2d86626a-bfc9-43e8-9a1f-18fc547a35b7",
   "metadata": {},
   "outputs": [
    {
     "name": "stdout",
     "output_type": "stream",
     "text": [
      "2\n"
     ]
    }
   ],
   "source": [
    "rank=np.linalg.matrix_rank(matrix1)\n",
    "print(rank)"
   ]
  },
  {
   "cell_type": "code",
   "execution_count": 8,
   "id": "fd1c2379-e1bc-4e5d-9fcb-93b5f9aa3919",
   "metadata": {},
   "outputs": [
    {
     "name": "stdout",
     "output_type": "stream",
     "text": [
      "-2.0000000000000004\n"
     ]
    }
   ],
   "source": [
    "determinant=np.linalg.det(matrix1)\n",
    "print(determinant)"
   ]
  },
  {
   "cell_type": "code",
   "execution_count": 9,
   "id": "4df512fe-f96b-4dd1-90f0-19e27328382f",
   "metadata": {},
   "outputs": [
    {
     "name": "stdout",
     "output_type": "stream",
     "text": [
      "[[-2.   1. ]\n",
      " [ 1.5 -0.5]]\n"
     ]
    }
   ],
   "source": [
    "inverse=np.linalg.inv(matrix1)\n",
    "print(inverse)"
   ]
  },
  {
   "cell_type": "code",
   "execution_count": 10,
   "id": "5097fbbd-26b5-43bf-b3a7-971844a7e0a2",
   "metadata": {},
   "outputs": [
    {
     "name": "stdout",
     "output_type": "stream",
     "text": [
      "Eigen value :  [-0.37228132  5.37228132]\n",
      "Eigen vector :  [[-0.82456484 -0.41597356]\n",
      " [ 0.56576746 -0.90937671]]\n"
     ]
    }
   ],
   "source": [
    "eignvalue,eigenvector=np.linalg.eig(matrix1)\n",
    "print(\"Eigen value : \",eignvalue)\n",
    "print(\"Eigen vector : \",eigenvector)"
   ]
  },
  {
   "cell_type": "code",
   "execution_count": null,
   "id": "fe4e86b8-a116-4a3d-acb4-1847f72dbf50",
   "metadata": {},
   "outputs": [],
   "source": []
  }
 ],
 "metadata": {
  "kernelspec": {
   "display_name": "Python 3 (ipykernel)",
   "language": "python",
   "name": "python3"
  },
  "language_info": {
   "codemirror_mode": {
    "name": "ipython",
    "version": 3
   },
   "file_extension": ".py",
   "mimetype": "text/x-python",
   "name": "python",
   "nbconvert_exporter": "python",
   "pygments_lexer": "ipython3",
   "version": "3.10.12"
  }
 },
 "nbformat": 4,
 "nbformat_minor": 5
}
