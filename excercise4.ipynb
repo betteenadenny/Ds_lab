{
 "cells": [
  {
   "cell_type": "code",
   "execution_count": 2,
   "id": "55b160e0",
   "metadata": {
    "scrolled": true
   },
   "outputs": [
    {
     "name": "stdout",
     "output_type": "stream",
     "text": [
      "0    1\n",
      "1    2\n",
      "2    3\n",
      "3    4\n",
      "4    5\n",
      "5    6\n",
      "dtype: int64\n"
     ]
    }
   ],
   "source": [
    "# Exercise 4.1\n",
    "import pandas as pd\n",
    "list = [1,2,3,4,5,6]\n",
    "print(pd.Series(list))\n"
   ]
  },
  {
   "cell_type": "code",
   "execution_count": 6,
   "id": "66aec3fe",
   "metadata": {
    "scrolled": true
   },
   "outputs": [
    {
     "name": "stdout",
     "output_type": "stream",
     "text": [
      "DatetimeIndex(['2021-05-01', '2021-05-02', '2021-05-03', '2021-05-04',\n",
      "               '2021-05-05', '2021-05-06', '2021-05-07', '2021-05-08',\n",
      "               '2021-05-09', '2021-05-10', '2021-05-11', '2021-05-12'],\n",
      "              dtype='datetime64[ns]', freq='D')\n"
     ]
    }
   ],
   "source": [
    "# Exercise 4.2\n",
    "per1 = pd.date_range(start ='05-01-2021', end ='05-12-2021') \n",
    "print(per1)"
   ]
  },
  {
   "cell_type": "code",
   "execution_count": 10,
   "id": "166073ab",
   "metadata": {},
   "outputs": [
    {
     "data": {
      "text/html": [
       "<div>\n",
       "<style scoped>\n",
       "    .dataframe tbody tr th:only-of-type {\n",
       "        vertical-align: middle;\n",
       "    }\n",
       "\n",
       "    .dataframe tbody tr th {\n",
       "        vertical-align: top;\n",
       "    }\n",
       "\n",
       "    .dataframe thead th {\n",
       "        text-align: right;\n",
       "    }\n",
       "</style>\n",
       "<table border=\"1\" class=\"dataframe\">\n",
       "  <thead>\n",
       "    <tr style=\"text-align: right;\">\n",
       "      <th></th>\n",
       "      <th>fist_name</th>\n",
       "      <th>last_name</th>\n",
       "      <th>age</th>\n",
       "    </tr>\n",
       "  </thead>\n",
       "  <tbody>\n",
       "    <tr>\n",
       "      <th>0</th>\n",
       "      <td>John</td>\n",
       "      <td>Brown</td>\n",
       "      <td>25</td>\n",
       "    </tr>\n",
       "    <tr>\n",
       "      <th>1</th>\n",
       "      <td>Andrew</td>\n",
       "      <td>Purple</td>\n",
       "      <td>48</td>\n",
       "    </tr>\n",
       "  </tbody>\n",
       "</table>\n",
       "</div>"
      ],
      "text/plain": [
       "  fist_name last_name  age\n",
       "0      John     Brown   25\n",
       "1    Andrew    Purple   48"
      ]
     },
     "execution_count": 10,
     "metadata": {},
     "output_type": "execute_result"
    }
   ],
   "source": [
    "# Exercise 4.3\n",
    "dict = {\n",
    "  'fist_name': ['John', 'Andrew'],\n",
    "  'last_name': ['Brown', 'Purple'],\n",
    "  'age': [25, 48]\n",
    "}\n",
    "pd.DataFrame.from_dict(dict)"
   ]
  },
  {
   "cell_type": "code",
   "execution_count": 13,
   "id": "b0b22252",
   "metadata": {},
   "outputs": [
    {
     "name": "stdout",
     "output_type": "stream",
     "text": [
      "       Name  Mark\n",
      "0  Betteena    25\n",
      "1       Anu    30\n",
      "2     Aysha    26\n",
      "3     Anuja    22\n"
     ]
    }
   ],
   "source": [
    "# Exercise 4.4\n",
    "list = [['Betteena', 25], ['Anu', 30],  \n",
    "       ['Aysha', 26], ['Anuja', 22]]  \n",
    "  \n",
    "# creating df object with columns specified     \n",
    "df = pd.DataFrame(list, columns =['Name', 'Mark'])  \n",
    "print(df )"
   ]
  },
  {
   "cell_type": "code",
   "execution_count": 14,
   "id": "6c62e82f",
   "metadata": {},
   "outputs": [
    {
     "name": "stdout",
     "output_type": "stream",
     "text": [
      "       Name  Age  Mark\n",
      "0  Betteena   21    30\n",
      "1    Anitta   26    34\n",
      "2    Josiah   22    35\n"
     ]
    }
   ],
   "source": [
    "# Exercise 4.5\n",
    "df = pd.read_csv('data.csv')\n",
    "print(df) "
   ]
  },
  {
   "cell_type": "code",
   "execution_count": 18,
   "id": "607f6021",
   "metadata": {},
   "outputs": [
    {
     "name": "stdout",
     "output_type": "stream",
     "text": [
      "DATAFRAME\n",
      "    Name  Age\n",
      "0    Raj   20\n",
      "1  Sonum   22\n",
      "2  Tilak   21\n",
      "SORTED DATAFRAME\n"
     ]
    },
    {
     "data": {
      "text/html": [
       "<div>\n",
       "<style scoped>\n",
       "    .dataframe tbody tr th:only-of-type {\n",
       "        vertical-align: middle;\n",
       "    }\n",
       "\n",
       "    .dataframe tbody tr th {\n",
       "        vertical-align: top;\n",
       "    }\n",
       "\n",
       "    .dataframe thead th {\n",
       "        text-align: right;\n",
       "    }\n",
       "</style>\n",
       "<table border=\"1\" class=\"dataframe\">\n",
       "  <thead>\n",
       "    <tr style=\"text-align: right;\">\n",
       "      <th></th>\n",
       "      <th>Name</th>\n",
       "      <th>Age</th>\n",
       "    </tr>\n",
       "  </thead>\n",
       "  <tbody>\n",
       "    <tr>\n",
       "      <th>1</th>\n",
       "      <td>Sonum</td>\n",
       "      <td>22</td>\n",
       "    </tr>\n",
       "    <tr>\n",
       "      <th>2</th>\n",
       "      <td>Tilak</td>\n",
       "      <td>21</td>\n",
       "    </tr>\n",
       "    <tr>\n",
       "      <th>0</th>\n",
       "      <td>Raj</td>\n",
       "      <td>20</td>\n",
       "    </tr>\n",
       "  </tbody>\n",
       "</table>\n",
       "</div>"
      ],
      "text/plain": [
       "    Name  Age\n",
       "1  Sonum   22\n",
       "2  Tilak   21\n",
       "0    Raj   20"
      ]
     },
     "execution_count": 18,
     "metadata": {},
     "output_type": "execute_result"
    }
   ],
   "source": [
    "# Exercise 4.6\n",
    "df = pd.DataFrame({'Name': ['Raj', 'Sonum', 'Tilak'],\n",
    "                   'Age': [20, 22, 21],\n",
    "                   })\n",
    " \n",
    "print('DATAFRAME')\n",
    "print(df)\n",
    "print('SORTED DATAFRAME')\n",
    "df.sort_values(by=['Age'], ascending=False)"
   ]
  },
  {
   "cell_type": "code",
   "execution_count": 23,
   "id": "296dfc03",
   "metadata": {},
   "outputs": [
    {
     "name": "stdout",
     "output_type": "stream",
     "text": [
      "Data frame with custom indexing\n",
      "          Networking  Web Engineering  Complier Design\n",
      "Abhishek          45               32               14\n",
      "Saumya            34               43               42\n",
      "Ayushi            23               23               21\n",
      "\n",
      "Data frame with default indexing\n"
     ]
    },
    {
     "data": {
      "text/html": [
       "<div>\n",
       "<style scoped>\n",
       "    .dataframe tbody tr th:only-of-type {\n",
       "        vertical-align: middle;\n",
       "    }\n",
       "\n",
       "    .dataframe tbody tr th {\n",
       "        vertical-align: top;\n",
       "    }\n",
       "\n",
       "    .dataframe thead th {\n",
       "        text-align: right;\n",
       "    }\n",
       "</style>\n",
       "<table border=\"1\" class=\"dataframe\">\n",
       "  <thead>\n",
       "    <tr style=\"text-align: right;\">\n",
       "      <th></th>\n",
       "      <th>index</th>\n",
       "      <th>Networking</th>\n",
       "      <th>Web Engineering</th>\n",
       "      <th>Complier Design</th>\n",
       "    </tr>\n",
       "  </thead>\n",
       "  <tbody>\n",
       "    <tr>\n",
       "      <th>0</th>\n",
       "      <td>Abhishek</td>\n",
       "      <td>45</td>\n",
       "      <td>32</td>\n",
       "      <td>14</td>\n",
       "    </tr>\n",
       "    <tr>\n",
       "      <th>1</th>\n",
       "      <td>Saumya</td>\n",
       "      <td>34</td>\n",
       "      <td>43</td>\n",
       "      <td>42</td>\n",
       "    </tr>\n",
       "    <tr>\n",
       "      <th>2</th>\n",
       "      <td>Ayushi</td>\n",
       "      <td>23</td>\n",
       "      <td>23</td>\n",
       "      <td>21</td>\n",
       "    </tr>\n",
       "  </tbody>\n",
       "</table>\n",
       "</div>"
      ],
      "text/plain": [
       "      index  Networking  Web Engineering  Complier Design\n",
       "0  Abhishek          45               32               14\n",
       "1    Saumya          34               43               42\n",
       "2    Ayushi          23               23               21"
      ]
     },
     "execution_count": 23,
     "metadata": {},
     "output_type": "execute_result"
    }
   ],
   "source": [
    "# Exercise 4.7\n",
    "\n",
    "df = pd.DataFrame({\n",
    "                    'Networking': [45, 34, 23],\n",
    "                    'Web Engineering': [32, 43, 23],\n",
    "                    'Complier Design': [14, 42, 21]\n",
    "                  }, index=['Abhishek', 'Saumya', 'Ayushi']\n",
    "                 )\n",
    "print('Data frame with custom indexing')\n",
    "print(df)\n",
    "print('\\nData frame with default indexing')\n",
    "df.reset_index()"
   ]
  },
  {
   "cell_type": "code",
   "execution_count": 30,
   "id": "d5b79587",
   "metadata": {},
   "outputs": [
    {
     "data": {
      "text/html": [
       "<div>\n",
       "<style scoped>\n",
       "    .dataframe tbody tr th:only-of-type {\n",
       "        vertical-align: middle;\n",
       "    }\n",
       "\n",
       "    .dataframe tbody tr th {\n",
       "        vertical-align: top;\n",
       "    }\n",
       "\n",
       "    .dataframe thead th {\n",
       "        text-align: right;\n",
       "    }\n",
       "</style>\n",
       "<table border=\"1\" class=\"dataframe\">\n",
       "  <thead>\n",
       "    <tr style=\"text-align: right;\">\n",
       "      <th></th>\n",
       "      <th>Networking</th>\n",
       "      <th>Web Engineering</th>\n",
       "      <th>Complier Design</th>\n",
       "    </tr>\n",
       "  </thead>\n",
       "  <tbody>\n",
       "    <tr>\n",
       "      <th>Abhishek</th>\n",
       "      <td>45</td>\n",
       "      <td>32</td>\n",
       "      <td>14</td>\n",
       "    </tr>\n",
       "    <tr>\n",
       "      <th>Saumya</th>\n",
       "      <td>34</td>\n",
       "      <td>43</td>\n",
       "      <td>42</td>\n",
       "    </tr>\n",
       "  </tbody>\n",
       "</table>\n",
       "</div>"
      ],
      "text/plain": [
       "          Networking  Web Engineering  Complier Design\n",
       "Abhishek          45               32               14\n",
       "Saumya            34               43               42"
      ]
     },
     "execution_count": 30,
     "metadata": {},
     "output_type": "execute_result"
    }
   ],
   "source": [
    "# Exercise 4.8\n",
    "df = pd.DataFrame({\n",
    "                    'Networking': [45, 34, 23],\n",
    "                    'Web Engineering': [32, 43, 23],\n",
    "                    'Complier Design': [14, 42, 21]\n",
    "                  }, index=['Abhishek', 'Saumya', 'Ayushi']\n",
    "                 )\n",
    "df.head(2)"
   ]
  },
  {
   "cell_type": "code",
   "execution_count": 31,
   "id": "6983dc67",
   "metadata": {},
   "outputs": [
    {
     "name": "stdout",
     "output_type": "stream",
     "text": [
      "Occupation\n",
      "Doctor      77500.0\n",
      "Engineer    62500.0\n",
      "Teacher     45000.0\n",
      "Name: Salary, dtype: float64\n"
     ]
    }
   ],
   "source": [
    "# Exercise 4.9\n",
    "data = {\n",
    "    'Name': ['Alice', 'Bob', 'Charlie', 'David', 'Eve'],\n",
    "    'Occupation': ['Engineer', 'Teacher', 'Doctor', 'Engineer', 'Doctor'],\n",
    "    'Salary': [60000, 45000, 75000, 65000, 80000]\n",
    "}\n",
    "\n",
    "df = pd.DataFrame(data)\n",
    "print(df.groupby('Occupation')['Salary'].mean())\n",
    "\n",
    "                 "
   ]
  },
  {
   "cell_type": "code",
   "execution_count": 27,
   "id": "14a696b3",
   "metadata": {},
   "outputs": [
    {
     "name": "stdout",
     "output_type": "stream",
     "text": [
      "     A    B    C\n",
      "0  1.0  0.0  1.0\n",
      "1  2.0  2.0  2.0\n",
      "2  0.0  3.0  3.0\n",
      "3  4.0  0.0  4.0\n",
      "4  5.0  5.0  0.0\n"
     ]
    }
   ],
   "source": [
    "# Exercise 4.10\n",
    "import numpy as np\n",
    "\n",
    "\n",
    "data = {\n",
    "    'A': [1, 2, np.nan, 4, 5],\n",
    "    'B': [np.nan, 2, 3, np.nan, 5],\n",
    "    'C': [1, 2, 3, 4, np.nan]\n",
    "}\n",
    "\n",
    "df = pd.DataFrame(data)\n",
    "\n",
    "df_filled = df.fillna(0)\n",
    "\n",
    "\n",
    "print(df_filled)"
   ]
  },
  {
   "cell_type": "code",
   "execution_count": 34,
   "id": "4a5d4890",
   "metadata": {},
   "outputs": [
    {
     "name": "stdout",
     "output_type": "stream",
     "text": [
      "       cname  is_profit\n",
      "0  Company A       True\n",
      "1  Company B      False\n",
      "2  Company C      False\n",
      "3  Company D       True\n"
     ]
    }
   ],
   "source": [
    "# Exercise 4.11\n",
    "data = {\n",
    "    'cname': ['Company A', 'Company B', 'Company C', 'Company D'],\n",
    "    'profit': [10000, -5000, 0, 7500]\n",
    "}\n",
    "\n",
    "df = pd.DataFrame(data)\n",
    "\n",
    "df['profit'] = df['profit'] > 0\n",
    "df.rename(columns={'profit':'is_profit'},inplace=True)\n",
    "\n",
    "print(df)"
   ]
  },
  {
   "cell_type": "code",
   "execution_count": 33,
   "id": "4545b45a",
   "metadata": {},
   "outputs": [
    {
     "name": "stdout",
     "output_type": "stream",
     "text": [
      "   eid    ename  stipend  position\n",
      "0  101    Alice     5000  Engineer\n",
      "1  102      Bob     6000       NaN\n",
      "2  103  Charlie     5500   Manager\n",
      "3  104    David     7000   Analyst\n"
     ]
    }
   ],
   "source": [
    "# Exercise 4.12\n",
    "data1 = {\n",
    "    'eid': [101, 102, 103, 104],\n",
    "    'ename': ['Alice', 'Bob', 'Charlie', 'David'],\n",
    "    'stipend': [5000, 6000, 5500, 7000]\n",
    "}\n",
    "\n",
    "data2 = {\n",
    "    'eid': [101, 103, 104, 105],\n",
    "    'designation': ['Engineer', 'Manager', 'Analyst', 'Technician']\n",
    "}\n",
    "\n",
    "df1 = pd.DataFrame(data1)\n",
    "df2 = pd.DataFrame(data2)\n",
    "\n",
    "result_df = df1.merge(df2, on='eid', how='left')\n",
    "\n",
    "result_df = result_df.rename(columns={'designation': 'position'})\n",
    "\n",
    "print(result_df)"
   ]
  },
  {
   "cell_type": "code",
   "execution_count": null,
   "id": "a7f458b9",
   "metadata": {},
   "outputs": [],
   "source": []
  }
 ],
 "metadata": {
  "kernelspec": {
   "display_name": "Python 3 (ipykernel)",
   "language": "python",
   "name": "python3"
  },
  "language_info": {
   "codemirror_mode": {
    "name": "ipython",
    "version": 3
   },
   "file_extension": ".py",
   "mimetype": "text/x-python",
   "name": "python",
   "nbconvert_exporter": "python",
   "pygments_lexer": "ipython3",
   "version": "3.9.12"
  }
 },
 "nbformat": 4,
 "nbformat_minor": 5
}
